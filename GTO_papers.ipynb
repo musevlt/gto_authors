{
 "cells": [
  {
   "cell_type": "code",
   "execution_count": 27,
   "id": "201fc8bf-fc04-4691-a586-c121d6f0110b",
   "metadata": {},
   "outputs": [],
   "source": [
    "import ads\n",
    "import numpy as np\n",
    "import matplotlib.pyplot as plt"
   ]
  },
  {
   "cell_type": "code",
   "execution_count": 2,
   "id": "3fa4e734-8559-4d46-81e5-01074e2aead6",
   "metadata": {},
   "outputs": [],
   "source": [
    "f = open(\"README.md\", \"w+\")"
   ]
  },
  {
   "cell_type": "code",
   "execution_count": 3,
   "id": "7f97ecb0-ada7-458a-9a78-d9341d9bdb07",
   "metadata": {},
   "outputs": [],
   "source": [
    "date_update = '2023-07-07'"
   ]
  },
  {
   "cell_type": "code",
   "execution_count": 4,
   "id": "0810a213-5737-4b01-b5f2-fdb07667ca9b",
   "metadata": {},
   "outputs": [
    {
     "data": {
      "text/plain": [
       "44"
      ]
     },
     "execution_count": 4,
     "metadata": {},
     "output_type": "execute_result"
    }
   ],
   "source": [
    "f.write(f\"# File gto_authors Last update: {date_update}\\n\\n\")"
   ]
  },
  {
   "cell_type": "code",
   "execution_count": 5,
   "id": "60147c55-272f-455f-9dc7-3dc62a9ad0de",
   "metadata": {
    "tags": []
   },
   "outputs": [],
   "source": [
    "bibcodes = [\n",
    "    '2017A&A...602A.111H',\n",
    "    '2019MNRAS.485.1961Z',\n",
    "    '2021MNRAS.502.3733W',\n",
    "    '2020A&A...635A.194M',\n",
    "    '2023A&A...674A.210M',\n",
    "    '2020A&A...633A..79K',\n",
    "    '2020A&A...634A..47M',\n",
    "    '2020A&A...641A..28W',\n",
    "    '2023A&A...670A...4B',\n",
    "    '2022A&A...663A..11L',\n",
    "    '2021A&A...653L...8L',\n",
    "    '2023A&A...671A...5H',\n",
    "    '2021A&A...653A.136H',\n",
    "    '2021MNRAS.508.5612M',\n",
    "    '2021MNRAS.504...16G',\n",
    "    '2021A&A...649A.161S',\n",
    "    '2022A&A...658A..76B',\n",
    "    '2021A&A...647A.107B',\n",
    "    '2022A&A...660A..44K',\n",
    "    '2021A&A...649A..63P',\n",
    "    '2019A&A...631A..87V',\n",
    "    '2019A&A...621A.107H',\n",
    "    '2019A&A...624A..89N',\n",
    "    '2016ApJ...831...39B',\n",
    "    '2017MNRAS.468.2140C',\n",
    "    '2017MNRAS.469.3946L',\n",
    "    '2017A&A...606A..12H',\n",
    "    '2017MNRAS.471.3186D',\n",
    "    '2018MNRAS.473..663M',\n",
    "    '2021A&A...654A..49B',\n",
    "    '2020A&A...641A.118F',\n",
    "    '2020A&A...638A..12K',\n",
    "    '2020A&A...635A..82L',\n",
    "    '2018A&A...617A..62F',\n",
    "    '2018A&A...619A..27B',\n",
    "    '2017A&A...608A..10H',\n",
    "    '2017A&A...608A...9V',\n",
    "    '2017A&A...608A...8L',\n",
    "    '2017A&A...608A...7F',\n",
    "    '2017A&A...608A...4M',\n",
    "    '2017A&A...608A...5G',\n",
    "    '2017A&A...608A...3B',\n",
    "    '2017A&A...608A...2I',\n",
    "    '2017A&A...608A...1B',\n",
    "    '2018MNRAS.473...30C',\n",
    "    '2016A&A...590A..14B',\n",
    "    '2018MNRAS.473.5591K',\n",
    "    '2022A&A...665A..54M',\n",
    "    '2021A&A...647A.152A',\n",
    "    '2019A&A...631A.114B',\n",
    "    '2018A&A...609A..40E',\n",
    "    '2017MNRAS.471..267D',\n",
    "    '2018A&A...611A..95W',\n",
    "    '2018MNRAS.475L..15G',\n",
    "    '2018MNRAS.475.3854G',\n",
    "    '2018A&A...615A..33M',\n",
    "    '2019MNRAS.489..224P',\n",
    "    '2018ApJ...859...53M',\n",
    "    '2018MNRAS.478L..60V',\n",
    "    '2018MNRAS.477.5327K',\n",
    "    '2018MNRAS.478.4293C',\n",
    "    '2018A&A...618A...3R',\n",
    "    '2018Natur.562..229W',\n",
    "    '2018ApJ...865L...1M',\n",
    "    '2018A&A...618A..40P',\n",
    "    '2019MNRAS.483.5188C',\n",
    "    '2019MNRAS.484.5009E',\n",
    "    '2023MNRAS.521..546L',\n",
    "    '2021MNRAS.507.4294Z',\n",
    "    '2021MNRAS.501.1900F',\n",
    "    '2021MNRAS.506.1355S',\n",
    "    '2020MNRAS.492.4576Z',\n",
    "    '2019MNRAS.490.4368S',\n",
    "    '2016ApJ...833...39S',\n",
    "    '2019A&A...624A.141U',\n",
    "    '2018ApJ...869L...1J',\n",
    "    '2019ApJ...882..140B',\n",
    "    '2019A&A...626A..69G',\n",
    "    '2019MNRAS.484..431C',\n",
    "    '2018MNRAS.477...18P',\n",
    "    '2019MNRAS.489.5022C',\n",
    "    '2019A&A...631A..14L',\n",
    "    '2020MNRAS.491.4089D',\n",
    "    '2020A&A...635A.107Z',\n",
    "    '2019A&A...628A...3D',\n",
    "    '2020MNRAS.493.5120M',\n",
    "    '2019A&A...631A.118G',\n",
    "    '2019A&A...632A...3G',\n",
    "    '2020MNRAS.492..966K',\n",
    "    '2020A&A...635A.114H',\n",
    "    '2020A&A...635A..65K',\n",
    "    '2020MNRAS.495.1874D',\n",
    "    '2019A&A...627A.164L',\n",
    "    '2020MNRAS.497.3860G',\n",
    "    '2020MNRAS.498.4472S',\n",
    "    '2021A&A...646A..83R',\n",
    "    '2020A&A...644A..39D',\n",
    "    '2020MNRAS.499.1200M',\n",
    "    '2021MNRAS.502..494M',\n",
    "    '2021A&A...651A..80Z',\n",
    "    '2021ApJ...916...12B',\n",
    "    '2021A&A...654A..80S',\n",
    "    '2021MNRAS.507.4788G',\n",
    "    '2021MNRAS.508.4786D',\n",
    "    '2022A&A...668A..74M',\n",
    "    '2019ApJ...880...47M',\n",
    "    '2023A&A...671A.142S',\n",
    "    '2022ApJ...940L..40J',\n",
    "    '2022A&A...659A.183K',\n",
    "    '2020MNRAS.498.3043M',\n",
    "    '2020MNRAS.496.1013M',\n",
    "    '2022A&A...666A..78C',\n",
    "    '2022A&A...660A..10M', \n",
    "    '2016MNRAS.456.4191P',\n",
    "    '2015MNRAS.452....2K',\n",
    "    '2015MNRAS.446L..16R',\n",
    "    '2016A&A...591A.143G',\n",
    "    '2016A&A...588A.148H',\n",
    "    '2016A&A...588A.149K',\n",
    "    '2017A&A...607A.133W',\n",
    "    '2015MNRAS.449.1298S',\n",
    "    '2015A&A...575A..75B',\n",
    "    '2016A&A...587A..98W',\n",
    "    '2016A&A...591A..49C',\n",
    "    '2015A&A...576L...3M',\n",
    "    '2015A&A...582A.114W',\n",
    "    '2016ApJ...820..121B',\n",
    "    '2017A&A...605A.118F',\n",
    "           ]"
   ]
  },
  {
   "cell_type": "code",
   "execution_count": 6,
   "id": "49518be9-1289-4a8c-884e-0f06b9605a51",
   "metadata": {
    "tags": []
   },
   "outputs": [
    {
     "data": {
      "text/plain": [
       "(128, 128)"
      ]
     },
     "execution_count": 6,
     "metadata": {},
     "output_type": "execute_result"
    }
   ],
   "source": [
    "len(bibcodes), len(list(set(bibcodes)))"
   ]
  },
  {
   "cell_type": "code",
   "execution_count": 7,
   "id": "fbe0fcac-2b82-4ab7-8d3d-06828119626d",
   "metadata": {},
   "outputs": [],
   "source": [
    "for b in bibcodes:\n",
    "    if bibcodes.count(b) > 1:\n",
    "        print(b)"
   ]
  },
  {
   "cell_type": "raw",
   "id": "e806a834-a8eb-4b82-8d54-7bbc171a7f38",
   "metadata": {},
   "source": [
    "author = 'Brinchmann'\n",
    "for a in articles:\n",
    "    if a.author[0].split(',')[0] == author:\n",
    "        print(a, a.title)"
   ]
  },
  {
   "cell_type": "markdown",
   "id": "58c246e8-7536-451c-a61a-3a69b03e1a8d",
   "metadata": {},
   "source": [
    "# Get all papers"
   ]
  },
  {
   "cell_type": "code",
   "execution_count": null,
   "id": "6f526a57-c69a-4c4d-810a-f6fabae3f0e2",
   "metadata": {
    "tags": []
   },
   "outputs": [],
   "source": [
    "articles = [list(ads.SearchQuery(bibcode=bibcode))[0] for bibcode in bibcodes]"
   ]
  },
  {
   "cell_type": "code",
   "execution_count": null,
   "id": "9a441639-9dec-430b-8b3a-e93338fe4e0e",
   "metadata": {},
   "outputs": [],
   "source": [
    "first_authors = [a.author[0].split(',')[0].split(' ')[-1] for a in articles]\n",
    "idx = np.argsort(first_authors)"
   ]
  },
  {
   "cell_type": "code",
   "execution_count": null,
   "id": "4542d61a-427b-4646-a610-4a4ff7f9c682",
   "metadata": {},
   "outputs": [],
   "source": [
    "f.write(f\"# Published Papers by the MUSE consortium [{len(articles)} refereed papers]\\n\\n\")"
   ]
  },
  {
   "cell_type": "code",
   "execution_count": null,
   "id": "21310b0a-ff3a-44fa-b0a2-2f982106dfb4",
   "metadata": {},
   "outputs": [],
   "source": [
    "for a in np.array(articles)[idx]:\n",
    "    f.write(f\"- {a.first_author} et al. {a.year} , \\\"{a.title[0]}\\\", [{a.bibcode}](https://ui.adsabs.harvard.edu/abs/{a.bibcode})\\n\")"
   ]
  },
  {
   "cell_type": "markdown",
   "id": "823b6c30-a405-4036-9e4f-7605d9c02e9f",
   "metadata": {},
   "source": [
    "# Provide some statistics"
   ]
  },
  {
   "cell_type": "code",
   "execution_count": null,
   "id": "459d205d-2fad-47c6-9928-5a7b3ff43991",
   "metadata": {},
   "outputs": [],
   "source": [
    "ntot = len(articles)"
   ]
  },
  {
   "cell_type": "code",
   "execution_count": null,
   "id": "5f17c391-12dd-4d18-b647-5523c9dd4e52",
   "metadata": {},
   "outputs": [],
   "source": [
    "citations = [a.citation_count for a in  articles]"
   ]
  },
  {
   "cell_type": "code",
   "execution_count": null,
   "id": "4a33daf4-69f1-4c63-9ccf-e4b10e818f83",
   "metadata": {},
   "outputs": [],
   "source": [
    "tot_cit = sum(citations)\n",
    "ksort = np.argsort(citations)\n",
    "k5 = ksort[::-1][0:10]"
   ]
  },
  {
   "cell_type": "code",
   "execution_count": null,
   "id": "90507f27-f5ff-4512-9958-97b7c521dbf8",
   "metadata": {},
   "outputs": [],
   "source": [
    "f.write(f\"\\n# Ten most cited papers [total of {tot_cit} citations] \\n\\n\")"
   ]
  },
  {
   "cell_type": "code",
   "execution_count": null,
   "id": "19e67d1c-d491-400f-b21e-a4cd4f85fe56",
   "metadata": {
    "tags": []
   },
   "outputs": [],
   "source": [
    "print('# Ten most cited papers')\n",
    "for a in np.array(articles)[k5]:\n",
    "    f.write(f\"- [{a.citation_count} citations] {a.first_author} et al. {a.year} , \\\"{a.title[0]}\\\", [{a.bibcode}](https://ui.adsabs.harvard.edu/abs/{a.bibcode})\\n\")"
   ]
  },
  {
   "cell_type": "code",
   "execution_count": 35,
   "id": "e7b8c66f-a76a-42dd-ad6e-ecbf833f8749",
   "metadata": {},
   "outputs": [
    {
     "data": {
      "text/plain": [
       "(array([ 0.,  6., 10., 17., 20., 20., 21., 29.]),\n",
       " array([2014., 2015., 2016., 2017., 2018., 2019., 2020., 2021., 2022.]),\n",
       " <BarContainer object of 8 artists>)"
      ]
     },
     "execution_count": 35,
     "metadata": {},
     "output_type": "execute_result"
    },
    {
     "data": {
      "image/png": "[encoded data removed]",
      "text/plain": [
       "<Figure size 864x576 with 1 Axes>"
      ]
     },
     "metadata": {
      "needs_background": "light"
     },
     "output_type": "display_data"
    }
   ],
   "source": [
    "years = np.arange(2014,2022.5,1)\n",
    "paper_years = [int(a.year) for a in articles]\n",
    "fig,ax = plt.subplots(1,1,figsize=(12,8))\n",
    "ax.hist(paper_years, bins=years)        "
   ]
  },
  {
   "cell_type": "markdown",
   "id": "70b125a7-954a-40d3-9988-473091126520",
   "metadata": {},
   "source": [
    "# Get list of all authors"
   ]
  },
  {
   "cell_type": "code",
   "execution_count": null,
   "id": "e8015b5a-16ac-44b8-b1b6-7187f5fb2ff2",
   "metadata": {},
   "outputs": [],
   "source": [
    "replace = [\n",
    "    [\"Bouche\",\"Bouché\"],\n",
    "    [\"Clement\",\"Clément\"],\n",
    "    [\"Krajnovic\",\"Krajnović\"],\n",
    "    [\"Labbe\",\"Labbé\"],\n",
    "    [\"Monreal Ibero\",\"Monreal-Ibero\"],\n",
    "    [\"Pello\",\"Pelló\"],\n",
    "    \n",
    "]"
   ]
  },
  {
   "cell_type": "code",
   "execution_count": null,
   "id": "ca8a33ab-6096-4ead-b85b-58735dbdb22f",
   "metadata": {},
   "outputs": [],
   "source": [
    "authors = []\n",
    "for p in articles:\n",
    "    authors += p.author"
   ]
  },
  {
   "cell_type": "code",
   "execution_count": null,
   "id": "050ca752-d010-44fb-a64c-680375b8ac72",
   "metadata": {},
   "outputs": [],
   "source": [
    "authors = sorted(list(set(authors)))\n",
    "authors[0:4]"
   ]
  },
  {
   "cell_type": "code",
   "execution_count": null,
   "id": "4d3cac21-43e8-47c6-a94d-a78e4013dbe5",
   "metadata": {},
   "outputs": [],
   "source": [
    "last_names = [a.split(', ')[0] for a in authors]\n",
    "first_names = [a.split(', ')[1] for a in authors]"
   ]
  },
  {
   "cell_type": "code",
   "execution_count": null,
   "id": "e5802802-c70c-4d83-aba7-6c9becd7aa77",
   "metadata": {},
   "outputs": [],
   "source": [
    "rlast_names = last_names.copy()\n",
    "for old,new in replace:\n",
    "    for k,name in enumerate(last_names):\n",
    "        if name == old:\n",
    "            rlast_names[k] = new"
   ]
  },
  {
   "cell_type": "code",
   "execution_count": null,
   "id": "54067ff0-0154-42ce-bab5-78eaa4f94b24",
   "metadata": {},
   "outputs": [],
   "source": [
    "uniq_last_names = list(set(rlast_names))\n",
    "uniq_last_names.sort()\n",
    "full_authors = []\n",
    "for lname in uniq_last_names:\n",
    "    fname = []\n",
    "    for k,n in enumerate(rlast_names):\n",
    "        if lname == n:\n",
    "            fname.append(first_names[k])\n",
    "    if len(fname) == 1:\n",
    "        full_authors.append(str(lname) + ', ' + str(fname[0]))\n",
    "    else:\n",
    "        lens = [len(f) for f in fname]\n",
    "        k = lens.index(max(lens))\n",
    "        full_authors.append(str(lname) + ', ' + str(fname[k]))\n",
    "\n",
    "        "
   ]
  },
  {
   "cell_type": "code",
   "execution_count": null,
   "id": "34a522e4-b7f4-4c1e-9dbe-06638b51248f",
   "metadata": {},
   "outputs": [],
   "source": [
    "f.write(\"\\n# Alphabetical list of authors of all published GTO papers \\n\\n\")"
   ]
  },
  {
   "cell_type": "code",
   "execution_count": null,
   "id": "b49e1eef-d847-415f-bd84-cfeadf8a3d25",
   "metadata": {},
   "outputs": [],
   "source": [
    "for a in full_authors:\n",
    "    f.write(f\"- {a}\\n\")"
   ]
  },
  {
   "cell_type": "markdown",
   "id": "74331157-1d3f-493f-b7b2-5734d4b6925e",
   "metadata": {},
   "source": [
    "# Close file"
   ]
  },
  {
   "cell_type": "code",
   "execution_count": null,
   "id": "73e88e59-477b-4c4b-8e1a-d7a85d7f6646",
   "metadata": {},
   "outputs": [],
   "source": [
    "f.close()"
   ]
  }
 ],
 "metadata": {
  "kernelspec": {
   "display_name": "Python 3",
   "language": "python",
   "name": "python3"
  },
  "language_info": {
   "codemirror_mode": {
    "name": "ipython",
    "version": 3
   },
   "file_extension": ".py",
   "mimetype": "text/x-python",
   "name": "python",
   "nbconvert_exporter": "python",
   "pygments_lexer": "ipython3",
   "version": "3.8.1"
  }
 },
 "nbformat": 4,
 "nbformat_minor": 5
}
